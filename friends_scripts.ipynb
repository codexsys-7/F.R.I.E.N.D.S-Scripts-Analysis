{
 "cells": [
  {
   "cell_type": "code",
   "execution_count": 1,
   "metadata": {},
   "outputs": [],
   "source": [
    "from selenium import webdriver\n",
    "from selenium.webdriver.common.action_chains import ActionChains\n",
    "from selenium.webdriver.common.by import By"
   ]
  },
  {
   "cell_type": "markdown",
   "metadata": {},
   "source": [
    "Now this is a Eureka Moment, Struggling to find bug in the one line of code for almost 8 hours.\n",
    "![link](https://external-content.duckduckgo.com/iu/?u=https%3A%2F%2Ftse1.mm.bing.net%2Fth%3Fid%3DOIP.fxyT9pezZXyeJ_DhTzjKlQHaHa%26pid%3DApi&f=1)"
   ]
  },
  {
   "cell_type": "code",
   "execution_count": 205,
   "metadata": {},
   "outputs": [
    {
     "name": "stderr",
     "output_type": "stream",
     "text": [
      "<ipython-input-205-9e71e3a08414>:12: DeprecationWarning: executable_path has been deprecated, please pass in a Service object\n",
      "  driver = webdriver.Chrome('C:\\\\Program Files\\\\Google\\Chrome\\\\chromedriver_win32\\\\chromedriver.exe', options=brave_options)\n",
      "<ipython-input-205-9e71e3a08414>:21: DeprecationWarning: find_elements_by_* commands are deprecated. Please use find_elements() instead\n",
      "  name = driver.find_elements_by_tag_name('p')\n"
     ]
    }
   ],
   "source": [
    "col = ['Cast', 'line']\n",
    "\n",
    "# Write the column name list in the csv file\n",
    "with open('s1e1.csv', 'w') as csvFile:\n",
    "        writer = csv.writer(csvFile)\n",
    "        writer.writerow(col)\n",
    "\n",
    "\n",
    "brave_options = webdriver.ChromeOptions()\n",
    "brave_options.binary_location = 'C:\\\\Program Files\\\\BraveSoftware\\\\Brave-Browser\\\\Application\\\\brave.exe'\n",
    "# Initialize the browser object\n",
    "driver = webdriver.Chrome('C:\\\\Program Files\\\\Google\\Chrome\\\\chromedriver_win32\\\\chromedriver.exe', options=brave_options)\n",
    "\n",
    "# URL to go to\n",
    "url = \"https://fangj.github.io/friends/season/0101.html\"\n",
    "# Maximize the browser window\n",
    "driver.maximize_window()\n",
    "# Opens the URL in the browser\n",
    "driver.get(url)\n",
    "    \n",
    "name = driver.find_elements_by_tag_name('p')\n",
    "for i in name:\n",
    "    with open('s1e1.csv', 'a') as csvFile:\n",
    "        writer = csv.writer(csvFile)\n",
    "        writer.writerow(str(i.text).split(':'))\n",
    "\n",
    "    csvFile.close()\n",
    "\n",
    "\n",
    "driver.close()\n"
   ]
  },
  {
   "cell_type": "markdown",
   "metadata": {},
   "source": [
    "The Difference between the above and below code is the below code will execute but, only one is row is appended, since we ahve selected entire body of the webpage, the bot though it has a one string and it splitted the string with :, and appended it on only 1 row.\n",
    "\n",
    "![link](https://external-content.duckduckgo.com/iu/?u=https%3A%2F%2Ftse1.mm.bing.net%2Fth%3Fid%3DOIP.rbSGaMepazhRCaGKrMVLTAHaE8%26pid%3DApi&f=1)\n",
    "\n",
    "Where as the below code runs perfecly, since we have used find by tag_name (p) and appended it on each row. however we need to perform a lot of preprocessing before doing any analysis.\n"
   ]
  },
  {
   "cell_type": "code",
   "execution_count": 206,
   "metadata": {},
   "outputs": [
    {
     "name": "stderr",
     "output_type": "stream",
     "text": [
      "<ipython-input-206-1de9f90133a1>:12: DeprecationWarning: executable_path has been deprecated, please pass in a Service object\n",
      "  driver = webdriver.Chrome('C:\\\\Program Files\\\\Google\\Chrome\\\\chromedriver_win32\\\\chromedriver.exe', options=brave_options)\n",
      "<ipython-input-206-1de9f90133a1>:21: DeprecationWarning: find_elements_by_* commands are deprecated. Please use find_elements() instead\n",
      "  name = driver.find_elements_by_xpath('/html/body')\n"
     ]
    }
   ],
   "source": [
    "col = ['Cast', 'line']\n",
    "\n",
    "# Write the column name list in the csv file\n",
    "with open('s1e1_demo.csv', 'w') as csvFile:\n",
    "        writer = csv.writer(csvFile)\n",
    "        writer.writerow(col)\n",
    "\n",
    "\n",
    "brave_options = webdriver.ChromeOptions()\n",
    "brave_options.binary_location = 'C:\\\\Program Files\\\\BraveSoftware\\\\Brave-Browser\\\\Application\\\\brave.exe'\n",
    "# Initialize the browser object\n",
    "driver = webdriver.Chrome('C:\\\\Program Files\\\\Google\\Chrome\\\\chromedriver_win32\\\\chromedriver.exe', options=brave_options)\n",
    "\n",
    "# URL to go to\n",
    "url = \"https://fangj.github.io/friends/season/0101.html\"\n",
    "# Maximize the browser window\n",
    "driver.maximize_window()\n",
    "# Opens the URL in the browser\n",
    "driver.get(url)\n",
    "    \n",
    "name = driver.find_elements_by_xpath('/html/body')\n",
    "for i in name:\n",
    "    with open('s1e1_demo.csv', 'a') as csvFile:\n",
    "        writer = csv.writer(csvFile)\n",
    "        writer.writerow(str(i.text).split(':'))\n",
    "\n",
    "    csvFile.close()\n",
    "\n",
    "\n",
    "driver.close()\n"
   ]
  },
  {
   "cell_type": "code",
   "execution_count": null,
   "metadata": {},
   "outputs": [],
   "source": []
  },
  {
   "cell_type": "code",
   "execution_count": null,
   "metadata": {},
   "outputs": [],
   "source": []
  },
  {
   "cell_type": "code",
   "execution_count": null,
   "metadata": {},
   "outputs": [],
   "source": []
  },
  {
   "cell_type": "code",
   "execution_count": null,
   "metadata": {},
   "outputs": [],
   "source": []
  },
  {
   "cell_type": "code",
   "execution_count": null,
   "metadata": {},
   "outputs": [],
   "source": []
  },
  {
   "cell_type": "code",
   "execution_count": null,
   "metadata": {},
   "outputs": [],
   "source": []
  },
  {
   "cell_type": "code",
   "execution_count": null,
   "metadata": {},
   "outputs": [],
   "source": []
  },
  {
   "cell_type": "code",
   "execution_count": null,
   "metadata": {},
   "outputs": [],
   "source": []
  },
  {
   "cell_type": "code",
   "execution_count": null,
   "metadata": {},
   "outputs": [],
   "source": []
  },
  {
   "cell_type": "code",
   "execution_count": null,
   "metadata": {},
   "outputs": [],
   "source": []
  },
  {
   "cell_type": "code",
   "execution_count": null,
   "metadata": {},
   "outputs": [],
   "source": []
  },
  {
   "cell_type": "code",
   "execution_count": null,
   "metadata": {},
   "outputs": [],
   "source": []
  },
  {
   "cell_type": "code",
   "execution_count": null,
   "metadata": {},
   "outputs": [],
   "source": []
  },
  {
   "cell_type": "code",
   "execution_count": null,
   "metadata": {},
   "outputs": [],
   "source": []
  },
  {
   "cell_type": "code",
   "execution_count": null,
   "metadata": {},
   "outputs": [],
   "source": []
  },
  {
   "cell_type": "code",
   "execution_count": null,
   "metadata": {},
   "outputs": [],
   "source": []
  },
  {
   "cell_type": "code",
   "execution_count": null,
   "metadata": {},
   "outputs": [],
   "source": []
  },
  {
   "cell_type": "code",
   "execution_count": null,
   "metadata": {},
   "outputs": [],
   "source": []
  },
  {
   "cell_type": "code",
   "execution_count": null,
   "metadata": {},
   "outputs": [],
   "source": []
  },
  {
   "cell_type": "code",
   "execution_count": null,
   "metadata": {},
   "outputs": [],
   "source": []
  },
  {
   "cell_type": "code",
   "execution_count": null,
   "metadata": {},
   "outputs": [],
   "source": []
  },
  {
   "cell_type": "code",
   "execution_count": null,
   "metadata": {},
   "outputs": [],
   "source": []
  },
  {
   "cell_type": "code",
   "execution_count": null,
   "metadata": {},
   "outputs": [],
   "source": []
  },
  {
   "cell_type": "code",
   "execution_count": null,
   "metadata": {},
   "outputs": [],
   "source": []
  },
  {
   "cell_type": "code",
   "execution_count": null,
   "metadata": {},
   "outputs": [],
   "source": []
  },
  {
   "cell_type": "code",
   "execution_count": null,
   "metadata": {},
   "outputs": [],
   "source": []
  },
  {
   "cell_type": "code",
   "execution_count": null,
   "metadata": {},
   "outputs": [],
   "source": []
  },
  {
   "cell_type": "code",
   "execution_count": null,
   "metadata": {},
   "outputs": [],
   "source": []
  },
  {
   "cell_type": "code",
   "execution_count": null,
   "metadata": {},
   "outputs": [],
   "source": []
  },
  {
   "cell_type": "code",
   "execution_count": null,
   "metadata": {},
   "outputs": [],
   "source": []
  },
  {
   "cell_type": "code",
   "execution_count": null,
   "metadata": {},
   "outputs": [],
   "source": []
  },
  {
   "cell_type": "code",
   "execution_count": null,
   "metadata": {},
   "outputs": [],
   "source": []
  },
  {
   "cell_type": "code",
   "execution_count": null,
   "metadata": {},
   "outputs": [],
   "source": []
  },
  {
   "cell_type": "raw",
   "metadata": {},
   "source": [
    "# Import the require packages\n",
    "\n",
    "# Initialize the column names list\n",
    "col = ['Name','Price','Date','Parked_At']\n",
    "\n",
    "# Write the column name list in the csv file\n",
    "with open('Domain.csv', 'w') as csvFile:\n",
    "        writer = csv.writer(csvFile)\n",
    "        writer.writerow(col)\n",
    "\n",
    "brave_options = webdriver.ChromeOptions()\n",
    "brave_options.binary_location = 'C:\\\\Program Files\\\\BraveSoftware\\\\Brave-Browser\\\\Application\\\\brave.exe'\n",
    "# Initialize the browser object\n",
    "driver = webdriver.Chrome('C:\\\\Program Files\\\\Google\\Chrome\\\\chromedriver_win32\\\\chromedriver.exe', options=brave_options)\n",
    "\n",
    "# URL to go to\n",
    "url = \"https://namebio.com/\"\n",
    "# Maximize the browser window\n",
    "driver.maximize_window()\n",
    "# Opens the URL in the browser\n",
    "driver.get(url)\n",
    "\n",
    "# Counter to traverse through the 10 tables\n",
    "i = 0\n",
    "\n",
    "while i < 10:\n",
    "\n",
    "  #  Get all elements with the table row tag using the xpath method\n",
    "  trs = driver.find_elements_by_xpath('//*[@id=\"search-results\"]/tbody/tr')\n",
    "\n",
    "  # Traverse through the rows\n",
    "  for tr in trs:\n",
    "\n",
    "    # Split each row to get four values\n",
    "    tr = str(tr.text).split(' ')\n",
    "#    tr[2:3]\n",
    "#    print(tr)\n",
    "\n",
    "    # Write the list of values to the csv file\n",
    "    with open('Domain.csv', 'a') as csvFile:\n",
    "        writer = csv.writer(csvFile)\n",
    "        writer.writerow(tr)\n",
    "\n",
    "    # Close the csv file\n",
    "    csvFile.close()\n",
    "  \n",
    "  # When all rows are read then click the next arrow button to move to next table\n",
    "  driver.find_element_by_xpath('//*[@id=\"search-results_next\"]/a').click()\n",
    "\n",
    "  # Give a 2 sec delay for the table to get loaded\n",
    "  time.sleep(2)\n",
    "\n",
    "  # Increment the counter\n",
    "  i+=1\n",
    "\n",
    "# Close the browser\n",
    "driver.close()"
   ]
  },
  {
   "cell_type": "raw",
   "metadata": {},
   "source": [
    "col = ['Cast', 'line']\n",
    "\n",
    "# Write the column name list in the csv file\n",
    "with open('scriptt.csv', 'w') as csvFile:\n",
    "        writer = csv.writer(csvFile)\n",
    "        writer.writerow(col)\n",
    "\n",
    "\n",
    "brave_options = webdriver.ChromeOptions()\n",
    "brave_options.binary_location = 'C:\\\\Program Files\\\\BraveSoftware\\\\Brave-Browser\\\\Application\\\\brave.exe'\n",
    "# Initialize the browser object\n",
    "driver = webdriver.Chrome('C:\\\\Program Files\\\\Google\\Chrome\\\\chromedriver_win32\\\\chromedriver.exe', options=brave_options)\n",
    "\n",
    "# URL to go to\n",
    "url = \"https://fangj.github.io/friends/season/0101.html\"\n",
    "# Maximize the browser window\n",
    "driver.maximize_window()\n",
    "# Opens the URL in the browser\n",
    "driver.get(url)\n",
    "    \n",
    "name = driver.find_element_by_xpath('/html/body/p[3]').text\n",
    "name = str(name).split(':')\n",
    "    # Write the list of values to the csv file\n",
    "with open('scriptt.csv', 'a') as csvFile:\n",
    "    writer = csv.writer(csvFile)\n",
    "    writer.writerow(name)\n",
    "\n",
    "csvFile.close()\n",
    "\n",
    "\n",
    "driver.close()\n"
   ]
  },
  {
   "cell_type": "raw",
   "metadata": {},
   "source": [
    "brave_options = webdriver.ChromeOptions()\n",
    "brave_options.binary_location = 'C:\\\\Program Files\\\\BraveSoftware\\\\Brave-Browser\\\\Application\\\\brave.exe'\n",
    "# Initialize the browser object\n",
    "driver = webdriver.Chrome('C:\\\\Program Files\\\\Google\\Chrome\\\\chromedriver_win32\\\\chromedriver.exe', options=brave_options)\n",
    "\n",
    "# URL to go to\n",
    "url = \"https://fangj.github.io/friends/season/0101.html\"\n",
    "# Maximize the browser window\n",
    "driver.maximize_window()\n",
    "# Opens the URL in the browser\n",
    "driver.get(url)\n",
    "name = driver.find_elements_by_tag_name('p')\n",
    "for i in name:\n",
    "    print(i.text)\n"
   ]
  },
  {
   "cell_type": "raw",
   "metadata": {},
   "source": [
    "brave_options = webdriver.ChromeOptions()\n",
    "brave_options.binary_location = 'C:\\\\Program Files\\\\BraveSoftware\\\\Brave-Browser\\\\Application\\\\brave.exe'\n",
    "# Initialize the browser object\n",
    "driver = webdriver.Chrome('C:\\\\Program Files\\\\Google\\Chrome\\\\chromedriver_win32\\\\chromedriver.exe', options=brave_options)\n",
    "\n",
    "# URL to go to\n",
    "url = \"https://fangj.github.io/friends/season/0101.html\"\n",
    "# Maximize the browser window\n",
    "driver.maximize_window()\n",
    "# Opens the URL in the browser\n",
    "driver.get(url)\n",
    "name = driver.find_elements_by_tag_name('p') \n",
    "for i in name:\n",
    "    print(str(i.text).split(':'))\n"
   ]
  },
  {
   "cell_type": "raw",
   "metadata": {},
   "source": [
    "brave_options = webdriver.ChromeOptions()\n",
    "brave_options.binary_location = 'C:\\\\Program Files\\\\BraveSoftware\\\\Brave-Browser\\\\Application\\\\brave.exe'\n",
    "# Initialize the browser object\n",
    "driver = webdriver.Chrome('C:\\\\Program Files\\\\Google\\Chrome\\\\chromedriver_win32\\\\chromedriver.exe', options=brave_options)\n",
    "\n",
    "# URL to go to\n",
    "url = \"https://fangj.github.io/friends/season/0101.html\"\n",
    "# Maximize the browser window\n",
    "driver.maximize_window()\n",
    "# Opens the URL in the browser\n",
    "driver.get(url)\n",
    "    \n",
    "name = driver.find_elements_by_xpath('/html/body')\n",
    "\n",
    "for i in name:\n",
    "    print(i.text)\n"
   ]
  },
  {
   "cell_type": "raw",
   "metadata": {},
   "source": [
    "brave_options = webdriver.ChromeOptions()\n",
    "brave_options.binary_location = 'C:\\\\Program Files\\\\BraveSoftware\\\\Brave-Browser\\\\Application\\\\brave.exe'\n",
    "# Initialize the browser object\n",
    "driver = webdriver.Chrome('C:\\\\Program Files\\\\Google\\Chrome\\\\chromedriver_win32\\\\chromedriver.exe', options=brave_options)\n",
    "\n",
    "# URL to go to\n",
    "url = \"https://fangj.github.io/friends/season/0101.html\"\n",
    "# Maximize the browser window\n",
    "driver.maximize_window()\n",
    "# Opens the URL in the browser\n",
    "driver.get(url)\n",
    "    \n",
    "name = driver.find_elements_by_xpath('/html/body')\n",
    "lo =[]\n",
    "for i in name:\n",
    "    print(str(i.text).split(':'))\n"
   ]
  },
  {
   "cell_type": "raw",
   "metadata": {},
   "source": [
    "col = ['Cast', 'line']\n",
    "\n",
    "# Write the column name list in the csv file\n",
    "with open('scriptt.csv', 'w') as csvFile:\n",
    "        writer = csv.writer(csvFile)\n",
    "        writer.writerow(col)\n",
    "\n",
    "\n",
    "brave_options = webdriver.ChromeOptions()\n",
    "brave_options.binary_location = 'C:\\\\Program Files\\\\BraveSoftware\\\\Brave-Browser\\\\Application\\\\brave.exe'\n",
    "# Initialize the browser object\n",
    "driver = webdriver.Chrome('C:\\\\Program Files\\\\Google\\Chrome\\\\chromedriver_win32\\\\chromedriver.exe', options=brave_options)\n",
    "\n",
    "# URL to go to\n",
    "url = \"https://fangj.github.io/friends/season/0101.html\"\n",
    "# Maximize the browser window\n",
    "driver.maximize_window()\n",
    "# Opens the URL in the browser\n",
    "driver.get(url)\n",
    "    \n",
    "jack = []\n",
    "name = driver.find_elements_by_tag_name('b')\n",
    "for i in name:\n",
    "    ab = str(i.text).split(':')\n",
    "    jack.append(ab[0])\n",
    "\n",
    "print(jack)\n",
    "driver.close()\n"
   ]
  },
  {
   "cell_type": "raw",
   "metadata": {},
   "source": [
    "col = ['Cast', 'line']\n",
    "\n",
    "# Write the column name list in the csv file\n",
    "with open('scriptt.csv', 'w') as csvFile:\n",
    "        writer = csv.writer(csvFile)\n",
    "        writer.writerow(col)\n",
    "\n",
    "\n",
    "brave_options = webdriver.ChromeOptions()\n",
    "brave_options.binary_location = 'C:\\\\Program Files\\\\BraveSoftware\\\\Brave-Browser\\\\Application\\\\brave.exe'\n",
    "# Initialize the browser object\n",
    "driver = webdriver.Chrome('C:\\\\Program Files\\\\Google\\Chrome\\\\chromedriver_win32\\\\chromedriver.exe', options=brave_options)\n",
    "\n",
    "# URL to go to\n",
    "url = \"https://fangj.github.io/friends/season/0101.html\"\n",
    "# Maximize the browser window\n",
    "driver.maximize_window()\n",
    "# Opens the URL in the browser\n",
    "driver.get(url)\n",
    "    \n",
    "name = driver.find_elements_by_tag_name('font')\n",
    "for i in name:\n",
    "    print(i.text)\n",
    "driver.close()\n"
   ]
  },
  {
   "cell_type": "code",
   "execution_count": null,
   "metadata": {},
   "outputs": [],
   "source": []
  },
  {
   "cell_type": "code",
   "execution_count": null,
   "metadata": {},
   "outputs": [],
   "source": []
  },
  {
   "cell_type": "code",
   "execution_count": null,
   "metadata": {},
   "outputs": [],
   "source": []
  },
  {
   "cell_type": "code",
   "execution_count": null,
   "metadata": {},
   "outputs": [],
   "source": []
  }
 ],
 "metadata": {
  "kernelspec": {
   "display_name": "Python 3",
   "language": "python",
   "name": "python3"
  },
  "language_info": {
   "codemirror_mode": {
    "name": "ipython",
    "version": 3
   },
   "file_extension": ".py",
   "mimetype": "text/x-python",
   "name": "python",
   "nbconvert_exporter": "python",
   "pygments_lexer": "ipython3",
   "version": "3.8.5"
  }
 },
 "nbformat": 4,
 "nbformat_minor": 4
}
