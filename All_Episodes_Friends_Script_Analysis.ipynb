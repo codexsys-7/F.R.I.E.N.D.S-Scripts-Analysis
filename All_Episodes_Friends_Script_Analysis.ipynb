{
 "cells": [
  {
   "cell_type": "code",
   "execution_count": 1,
   "metadata": {
    "id": "JDesZwU37_Th"
   },
   "outputs": [],
   "source": [
    "import pandas as pd\n",
    "import numpy as np\n",
    "import seaborn as sns\n",
    "import matplotlib.pyplot as plt\n",
    "import re\n",
    "import openpyxl"
   ]
  },
  {
   "cell_type": "code",
   "execution_count": 7,
   "metadata": {
    "colab": {
     "base_uri": "https://localhost:8080/"
    },
    "id": "YV31VXwN8LwO",
    "outputId": "c077ffbc-691d-42b4-f812-8902c1ae13b6"
   },
   "outputs": [],
   "source": [
    "df = pd.read_csv('Cleaned_Script_Data.csv')"
   ]
  },
  {
   "cell_type": "code",
   "execution_count": 8,
   "metadata": {},
   "outputs": [
    {
     "name": "stdout",
     "output_type": "stream",
     "text": [
      "<class 'pandas.core.frame.DataFrame'>\n",
      "RangeIndex: 118229 entries, 0 to 118228\n",
      "Data columns (total 2 columns):\n",
      " #   Column  Non-Null Count  Dtype \n",
      "---  ------  --------------  ----- \n",
      " 0   CAST    70141 non-null  object\n",
      " 1   LINE    64410 non-null  object\n",
      "dtypes: object(2)\n",
      "memory usage: 1.8+ MB\n"
     ]
    }
   ],
   "source": [
    "df.info()"
   ]
  },
  {
   "cell_type": "code",
   "execution_count": 9,
   "metadata": {
    "colab": {
     "base_uri": "https://localhost:8080/",
     "height": 403
    },
    "id": "qzoyyDJI8T7l",
    "outputId": "1e9acaa7-b2f4-4239-8cea-05935f1353cd"
   },
   "outputs": [
    {
     "data": {
      "text/html": [
       "<div>\n",
       "<style scoped>\n",
       "    .dataframe tbody tr th:only-of-type {\n",
       "        vertical-align: middle;\n",
       "    }\n",
       "\n",
       "    .dataframe tbody tr th {\n",
       "        vertical-align: top;\n",
       "    }\n",
       "\n",
       "    .dataframe thead th {\n",
       "        text-align: right;\n",
       "    }\n",
       "</style>\n",
       "<table border=\"1\" class=\"dataframe\">\n",
       "  <thead>\n",
       "    <tr style=\"text-align: right;\">\n",
       "      <th></th>\n",
       "      <th>CAST</th>\n",
       "      <th>LINE</th>\n",
       "    </tr>\n",
       "  </thead>\n",
       "  <tbody>\n",
       "    <tr>\n",
       "      <th>0</th>\n",
       "      <td>Written by</td>\n",
       "      <td>Marta Kauffman &amp; David Crane\\nTranscribed by</td>\n",
       "    </tr>\n",
       "    <tr>\n",
       "      <th>1</th>\n",
       "      <td>[Scene</td>\n",
       "      <td>Central Perk, Chandler, Joey, Phoebe, and Mon...</td>\n",
       "    </tr>\n",
       "    <tr>\n",
       "      <th>2</th>\n",
       "      <td>Monica</td>\n",
       "      <td>There's nothing to tell! He's just some guy I...</td>\n",
       "    </tr>\n",
       "    <tr>\n",
       "      <th>3</th>\n",
       "      <td>Joey</td>\n",
       "      <td>C'mon, you're going out with the guy! There's...</td>\n",
       "    </tr>\n",
       "    <tr>\n",
       "      <th>4</th>\n",
       "      <td>Chandler</td>\n",
       "      <td>All right Joey, be nice.  So does he have a h...</td>\n",
       "    </tr>\n",
       "  </tbody>\n",
       "</table>\n",
       "</div>"
      ],
      "text/plain": [
       "         CAST                                               LINE\n",
       "0  Written by       Marta Kauffman & David Crane\\nTranscribed by\n",
       "1      [Scene   Central Perk, Chandler, Joey, Phoebe, and Mon...\n",
       "2      Monica   There's nothing to tell! He's just some guy I...\n",
       "3        Joey   C'mon, you're going out with the guy! There's...\n",
       "4    Chandler   All right Joey, be nice.  So does he have a h..."
      ]
     },
     "execution_count": 9,
     "metadata": {},
     "output_type": "execute_result"
    }
   ],
   "source": [
    "df.head()"
   ]
  },
  {
   "cell_type": "code",
   "execution_count": 11,
   "metadata": {
    "colab": {
     "base_uri": "https://localhost:8080/",
     "height": 206
    },
    "id": "Ljgf7Ojt8Zf-",
    "outputId": "e5671695-a0e1-4cf8-c14f-4453c0940f1f"
   },
   "outputs": [
    {
     "data": {
      "text/html": [
       "<div>\n",
       "<style scoped>\n",
       "    .dataframe tbody tr th:only-of-type {\n",
       "        vertical-align: middle;\n",
       "    }\n",
       "\n",
       "    .dataframe tbody tr th {\n",
       "        vertical-align: top;\n",
       "    }\n",
       "\n",
       "    .dataframe thead th {\n",
       "        text-align: right;\n",
       "    }\n",
       "</style>\n",
       "<table border=\"1\" class=\"dataframe\">\n",
       "  <thead>\n",
       "    <tr style=\"text-align: right;\">\n",
       "      <th></th>\n",
       "      <th>CAST</th>\n",
       "      <th>LINE</th>\n",
       "    </tr>\n",
       "  </thead>\n",
       "  <tbody>\n",
       "    <tr>\n",
       "      <th>0</th>\n",
       "      <td>Written by</td>\n",
       "      <td>Marta Kauffman &amp; David Crane\\nTranscribed by</td>\n",
       "    </tr>\n",
       "    <tr>\n",
       "      <th>1</th>\n",
       "      <td>[Scene</td>\n",
       "      <td>Central Perk, Chandler, Joey, Phoebe, and Mon...</td>\n",
       "    </tr>\n",
       "    <tr>\n",
       "      <th>2</th>\n",
       "      <td>Monica</td>\n",
       "      <td>There's nothing to tell! He's just some guy I...</td>\n",
       "    </tr>\n",
       "    <tr>\n",
       "      <th>3</th>\n",
       "      <td>Joey</td>\n",
       "      <td>C'mon, you're going out with the guy! There's...</td>\n",
       "    </tr>\n",
       "    <tr>\n",
       "      <th>4</th>\n",
       "      <td>Chandler</td>\n",
       "      <td>All right Joey, be nice.  So does he have a h...</td>\n",
       "    </tr>\n",
       "  </tbody>\n",
       "</table>\n",
       "</div>"
      ],
      "text/plain": [
       "         CAST                                               LINE\n",
       "0  Written by       Marta Kauffman & David Crane\\nTranscribed by\n",
       "1      [Scene   Central Perk, Chandler, Joey, Phoebe, and Mon...\n",
       "2      Monica   There's nothing to tell! He's just some guy I...\n",
       "3        Joey   C'mon, you're going out with the guy! There's...\n",
       "4    Chandler   All right Joey, be nice.  So does he have a h..."
      ]
     },
     "execution_count": 11,
     "metadata": {},
     "output_type": "execute_result"
    }
   ],
   "source": [
    "df = df[['CAST', 'LINE']]\n",
    "df.head()"
   ]
  },
  {
   "cell_type": "code",
   "execution_count": 12,
   "metadata": {
    "colab": {
     "base_uri": "https://localhost:8080/"
    },
    "id": "cRrNrb_M8j9Z",
    "outputId": "d4740960-6710-47d5-f32f-a33410c50ac5"
   },
   "outputs": [
    {
     "data": {
      "text/plain": [
       "CAST    48088\n",
       "LINE    53819\n",
       "dtype: int64"
      ]
     },
     "execution_count": 12,
     "metadata": {},
     "output_type": "execute_result"
    }
   ],
   "source": [
    "df.isnull().sum()"
   ]
  },
  {
   "cell_type": "code",
   "execution_count": 13,
   "metadata": {
    "colab": {
     "base_uri": "https://localhost:8080/"
    },
    "id": "HAkLDevz9aI5",
    "outputId": "4329a19e-c306-4bce-cfab-44627dc6b407"
   },
   "outputs": [
    {
     "name": "stdout",
     "output_type": "stream",
     "text": [
      "<class 'pandas.core.frame.DataFrame'>\n",
      "RangeIndex: 118229 entries, 0 to 118228\n",
      "Data columns (total 2 columns):\n",
      " #   Column  Non-Null Count  Dtype \n",
      "---  ------  --------------  ----- \n",
      " 0   CAST    70141 non-null  object\n",
      " 1   LINE    64410 non-null  object\n",
      "dtypes: object(2)\n",
      "memory usage: 1.8+ MB\n"
     ]
    }
   ],
   "source": [
    "df.info()"
   ]
  },
  {
   "cell_type": "code",
   "execution_count": 14,
   "metadata": {
    "colab": {
     "base_uri": "https://localhost:8080/",
     "height": 174
    },
    "id": "0pbL91Ec9aLk",
    "outputId": "781afbaa-0784-480f-b778-65e53a3294e8"
   },
   "outputs": [
    {
     "data": {
      "text/html": [
       "<div>\n",
       "<style scoped>\n",
       "    .dataframe tbody tr th:only-of-type {\n",
       "        vertical-align: middle;\n",
       "    }\n",
       "\n",
       "    .dataframe tbody tr th {\n",
       "        vertical-align: top;\n",
       "    }\n",
       "\n",
       "    .dataframe thead th {\n",
       "        text-align: right;\n",
       "    }\n",
       "</style>\n",
       "<table border=\"1\" class=\"dataframe\">\n",
       "  <thead>\n",
       "    <tr style=\"text-align: right;\">\n",
       "      <th></th>\n",
       "      <th>CAST</th>\n",
       "      <th>LINE</th>\n",
       "    </tr>\n",
       "  </thead>\n",
       "  <tbody>\n",
       "    <tr>\n",
       "      <th>count</th>\n",
       "      <td>70141</td>\n",
       "      <td>64410</td>\n",
       "    </tr>\n",
       "    <tr>\n",
       "      <th>unique</th>\n",
       "      <td>5366</td>\n",
       "      <td>55848</td>\n",
       "    </tr>\n",
       "    <tr>\n",
       "      <th>top</th>\n",
       "      <td>Rachel</td>\n",
       "      <td>What?</td>\n",
       "    </tr>\n",
       "    <tr>\n",
       "      <th>freq</th>\n",
       "      <td>8408</td>\n",
       "      <td>483</td>\n",
       "    </tr>\n",
       "  </tbody>\n",
       "</table>\n",
       "</div>"
      ],
      "text/plain": [
       "          CAST    LINE\n",
       "count    70141   64410\n",
       "unique    5366   55848\n",
       "top     Rachel   What?\n",
       "freq      8408     483"
      ]
     },
     "execution_count": 14,
     "metadata": {},
     "output_type": "execute_result"
    }
   ],
   "source": [
    "df.describe()"
   ]
  },
  {
   "cell_type": "code",
   "execution_count": 15,
   "metadata": {
    "id": "aBI_pSHK9ReK"
   },
   "outputs": [],
   "source": [
    "df = df.dropna(axis = 0, how = 'any').reset_index(drop=True)"
   ]
  },
  {
   "cell_type": "code",
   "execution_count": 16,
   "metadata": {
    "colab": {
     "base_uri": "https://localhost:8080/"
    },
    "id": "R7Fe3g1T-NhC",
    "outputId": "21d6a123-b6da-4c61-b807-995271fdcce3"
   },
   "outputs": [
    {
     "data": {
      "text/plain": [
       "CAST    0\n",
       "LINE    0\n",
       "dtype: int64"
      ]
     },
     "execution_count": 16,
     "metadata": {},
     "output_type": "execute_result"
    }
   ],
   "source": [
    "df.isnull().sum()"
   ]
  },
  {
   "cell_type": "code",
   "execution_count": 17,
   "metadata": {},
   "outputs": [],
   "source": [
    "# Saving as Excel and csv file"
   ]
  },
  {
   "cell_type": "markdown",
   "metadata": {},
   "source": [
    "df.to_csv('no_null_script.csv', header = True, index = False)"
   ]
  },
  {
   "cell_type": "markdown",
   "metadata": {},
   "source": [
    "df.to_excel(\"no_null_script.xlsx\", header = True, index = False)"
   ]
  },
  {
   "cell_type": "code",
   "execution_count": 20,
   "metadata": {
    "colab": {
     "base_uri": "https://localhost:8080/",
     "height": 206
    },
    "id": "UaKJBFxH-Psk",
    "outputId": "ba0597b9-1bb8-43fd-da68-1eac54b98929"
   },
   "outputs": [
    {
     "data": {
      "text/html": [
       "<div>\n",
       "<style scoped>\n",
       "    .dataframe tbody tr th:only-of-type {\n",
       "        vertical-align: middle;\n",
       "    }\n",
       "\n",
       "    .dataframe tbody tr th {\n",
       "        vertical-align: top;\n",
       "    }\n",
       "\n",
       "    .dataframe thead th {\n",
       "        text-align: right;\n",
       "    }\n",
       "</style>\n",
       "<table border=\"1\" class=\"dataframe\">\n",
       "  <thead>\n",
       "    <tr style=\"text-align: right;\">\n",
       "      <th></th>\n",
       "      <th>CAST</th>\n",
       "      <th>LINE</th>\n",
       "    </tr>\n",
       "  </thead>\n",
       "  <tbody>\n",
       "    <tr>\n",
       "      <th>0</th>\n",
       "      <td>Written by</td>\n",
       "      <td>Marta Kauffman &amp; David Crane\\nTranscribed by</td>\n",
       "    </tr>\n",
       "    <tr>\n",
       "      <th>1</th>\n",
       "      <td>[Scene</td>\n",
       "      <td>Central Perk, Chandler, Joey, Phoebe, and Mon...</td>\n",
       "    </tr>\n",
       "    <tr>\n",
       "      <th>2</th>\n",
       "      <td>Monica</td>\n",
       "      <td>There's nothing to tell! He's just some guy I...</td>\n",
       "    </tr>\n",
       "    <tr>\n",
       "      <th>3</th>\n",
       "      <td>Joey</td>\n",
       "      <td>C'mon, you're going out with the guy! There's...</td>\n",
       "    </tr>\n",
       "    <tr>\n",
       "      <th>4</th>\n",
       "      <td>Chandler</td>\n",
       "      <td>All right Joey, be nice.  So does he have a h...</td>\n",
       "    </tr>\n",
       "  </tbody>\n",
       "</table>\n",
       "</div>"
      ],
      "text/plain": [
       "         CAST                                               LINE\n",
       "0  Written by       Marta Kauffman & David Crane\\nTranscribed by\n",
       "1      [Scene   Central Perk, Chandler, Joey, Phoebe, and Mon...\n",
       "2      Monica   There's nothing to tell! He's just some guy I...\n",
       "3        Joey   C'mon, you're going out with the guy! There's...\n",
       "4    Chandler   All right Joey, be nice.  So does he have a h..."
      ]
     },
     "execution_count": 20,
     "metadata": {},
     "output_type": "execute_result"
    }
   ],
   "source": [
    "df.head()"
   ]
  },
  {
   "cell_type": "code",
   "execution_count": null,
   "metadata": {},
   "outputs": [],
   "source": []
  },
  {
   "cell_type": "code",
   "execution_count": 22,
   "metadata": {
    "colab": {
     "base_uri": "https://localhost:8080/",
     "height": 423
    },
    "id": "SUgMf2RPB0yU",
    "outputId": "c527f069-ea47-4c1c-eea3-46c43daa0b73"
   },
   "outputs": [
    {
     "data": {
      "text/html": [
       "<div>\n",
       "<style scoped>\n",
       "    .dataframe tbody tr th:only-of-type {\n",
       "        vertical-align: middle;\n",
       "    }\n",
       "\n",
       "    .dataframe tbody tr th {\n",
       "        vertical-align: top;\n",
       "    }\n",
       "\n",
       "    .dataframe thead th {\n",
       "        text-align: right;\n",
       "    }\n",
       "</style>\n",
       "<table border=\"1\" class=\"dataframe\">\n",
       "  <thead>\n",
       "    <tr style=\"text-align: right;\">\n",
       "      <th></th>\n",
       "      <th>CAST</th>\n",
       "      <th>LINE</th>\n",
       "    </tr>\n",
       "  </thead>\n",
       "  <tbody>\n",
       "    <tr>\n",
       "      <th>2</th>\n",
       "      <td>Monica</td>\n",
       "      <td>There's nothing to tell! He's just some guy I...</td>\n",
       "    </tr>\n",
       "    <tr>\n",
       "      <th>7</th>\n",
       "      <td>Monica</td>\n",
       "      <td>Okay, everybody relax. This is not even a dat...</td>\n",
       "    </tr>\n",
       "    <tr>\n",
       "      <th>17</th>\n",
       "      <td>Monica</td>\n",
       "      <td>And they weren't looking at you before?!</td>\n",
       "    </tr>\n",
       "    <tr>\n",
       "      <th>21</th>\n",
       "      <td>Monica</td>\n",
       "      <td>Are you okay, sweetie?</td>\n",
       "    </tr>\n",
       "    <tr>\n",
       "      <th>24</th>\n",
       "      <td>Monica</td>\n",
       "      <td>(explaining to the others) Carol moved her st...</td>\n",
       "    </tr>\n",
       "    <tr>\n",
       "      <th>...</th>\n",
       "      <td>...</td>\n",
       "      <td>...</td>\n",
       "    </tr>\n",
       "    <tr>\n",
       "      <th>64396</th>\n",
       "      <td>Monica</td>\n",
       "      <td>Oh, yeah, that's true.</td>\n",
       "    </tr>\n",
       "    <tr>\n",
       "      <th>64398</th>\n",
       "      <td>Monica</td>\n",
       "      <td>Wait a minute. What about that summer during ...</td>\n",
       "    </tr>\n",
       "    <tr>\n",
       "      <th>64400</th>\n",
       "      <td>Monica</td>\n",
       "      <td>Oh, honey, I forgot. I promised Treeger that ...</td>\n",
       "    </tr>\n",
       "    <tr>\n",
       "      <th>64404</th>\n",
       "      <td>Monica</td>\n",
       "      <td>(crying) This is harder than I thought it wou...</td>\n",
       "    </tr>\n",
       "    <tr>\n",
       "      <th>64407</th>\n",
       "      <td>Monica</td>\n",
       "      <td>We got some time.</td>\n",
       "    </tr>\n",
       "  </tbody>\n",
       "</table>\n",
       "<p>7555 rows × 2 columns</p>\n",
       "</div>"
      ],
      "text/plain": [
       "         CAST                                               LINE\n",
       "2      Monica   There's nothing to tell! He's just some guy I...\n",
       "7      Monica   Okay, everybody relax. This is not even a dat...\n",
       "17     Monica           And they weren't looking at you before?!\n",
       "21     Monica                             Are you okay, sweetie?\n",
       "24     Monica   (explaining to the others) Carol moved her st...\n",
       "...       ...                                                ...\n",
       "64396  Monica                             Oh, yeah, that's true.\n",
       "64398  Monica   Wait a minute. What about that summer during ...\n",
       "64400  Monica   Oh, honey, I forgot. I promised Treeger that ...\n",
       "64404  Monica   (crying) This is harder than I thought it wou...\n",
       "64407  Monica                                  We got some time.\n",
       "\n",
       "[7555 rows x 2 columns]"
      ]
     },
     "execution_count": 22,
     "metadata": {},
     "output_type": "execute_result"
    }
   ],
   "source": [
    "df[df['CAST'] == 'Monica']"
   ]
  },
  {
   "cell_type": "code",
   "execution_count": 23,
   "metadata": {},
   "outputs": [],
   "source": [
    "cast_names = ['MONICA', 'JOEY', 'CHANDLER', 'RACHEL', 'ROSS', 'PHOEBE',\n",
    "             'Monica', 'Joey', 'Chandler', 'Rachel', 'Ross', 'Phoebe',\n",
    "              'monica', 'joey', 'chandler', 'rachel', 'ross', 'phoebe',\n",
    "             'MNCA', 'CHAN', 'RACHE', 'Racel', 'RACH', 'JANICE', 'JULIE', 'PHOE', 'CAROL', 'SUSAN', 'Carol', 'Susan', \n",
    "              'Everyone', 'Everybody', 'ESTL', 'Estelle', 'Fat Monica', 'Fat Joey', 'Young Monica', 'Young Ross',\n",
    "             'CHAN, JOEY, ROSS', 'CHAN,JOEY,ROSS', 'Rache']"
   ]
  },
  {
   "cell_type": "code",
   "execution_count": 24,
   "metadata": {
    "id": "_892ppLrB00l"
   },
   "outputs": [],
   "source": [
    "df = df[df['CAST'].isin(cast_names)].reset_index(drop=True)"
   ]
  },
  {
   "cell_type": "code",
   "execution_count": 25,
   "metadata": {
    "colab": {
     "base_uri": "https://localhost:8080/",
     "height": 1000
    },
    "id": "9hHchQW5EqEH",
    "outputId": "f45a9ca3-2c25-47fe-cc04-e2090a633927"
   },
   "outputs": [
    {
     "data": {
      "text/html": [
       "<div>\n",
       "<style scoped>\n",
       "    .dataframe tbody tr th:only-of-type {\n",
       "        vertical-align: middle;\n",
       "    }\n",
       "\n",
       "    .dataframe tbody tr th {\n",
       "        vertical-align: top;\n",
       "    }\n",
       "\n",
       "    .dataframe thead th {\n",
       "        text-align: right;\n",
       "    }\n",
       "</style>\n",
       "<table border=\"1\" class=\"dataframe\">\n",
       "  <thead>\n",
       "    <tr style=\"text-align: right;\">\n",
       "      <th></th>\n",
       "      <th>CAST</th>\n",
       "      <th>LINE</th>\n",
       "    </tr>\n",
       "  </thead>\n",
       "  <tbody>\n",
       "    <tr>\n",
       "      <th>0</th>\n",
       "      <td>Monica</td>\n",
       "      <td>There's nothing to tell! He's just some guy I...</td>\n",
       "    </tr>\n",
       "    <tr>\n",
       "      <th>1</th>\n",
       "      <td>Joey</td>\n",
       "      <td>C'mon, you're going out with the guy! There's...</td>\n",
       "    </tr>\n",
       "    <tr>\n",
       "      <th>2</th>\n",
       "      <td>Chandler</td>\n",
       "      <td>All right Joey, be nice.  So does he have a h...</td>\n",
       "    </tr>\n",
       "    <tr>\n",
       "      <th>3</th>\n",
       "      <td>Phoebe</td>\n",
       "      <td>Wait, does he eat chalk?</td>\n",
       "    </tr>\n",
       "    <tr>\n",
       "      <th>4</th>\n",
       "      <td>Phoebe</td>\n",
       "      <td>Just, 'cause, I don't want her to go through ...</td>\n",
       "    </tr>\n",
       "    <tr>\n",
       "      <th>5</th>\n",
       "      <td>Monica</td>\n",
       "      <td>Okay, everybody relax. This is not even a dat...</td>\n",
       "    </tr>\n",
       "    <tr>\n",
       "      <th>6</th>\n",
       "      <td>Chandler</td>\n",
       "      <td>Sounds like a date to me.</td>\n",
       "    </tr>\n",
       "    <tr>\n",
       "      <th>7</th>\n",
       "      <td>Chandler</td>\n",
       "      <td>Alright, so I'm back in high school, I'm stan...</td>\n",
       "    </tr>\n",
       "    <tr>\n",
       "      <th>8</th>\n",
       "      <td>Chandler</td>\n",
       "      <td>Then I look down, and I realize there's a pho...</td>\n",
       "    </tr>\n",
       "    <tr>\n",
       "      <th>9</th>\n",
       "      <td>Joey</td>\n",
       "      <td>Instead of...?</td>\n",
       "    </tr>\n",
       "    <tr>\n",
       "      <th>10</th>\n",
       "      <td>Chandler</td>\n",
       "      <td>That's right.</td>\n",
       "    </tr>\n",
       "    <tr>\n",
       "      <th>11</th>\n",
       "      <td>Joey</td>\n",
       "      <td>Never had that dream.</td>\n",
       "    </tr>\n",
       "    <tr>\n",
       "      <th>12</th>\n",
       "      <td>Phoebe</td>\n",
       "      <td>No.</td>\n",
       "    </tr>\n",
       "    <tr>\n",
       "      <th>13</th>\n",
       "      <td>Chandler</td>\n",
       "      <td>All of a sudden, the phone starts to ring. No...</td>\n",
       "    </tr>\n",
       "    <tr>\n",
       "      <th>14</th>\n",
       "      <td>Monica</td>\n",
       "      <td>And they weren't looking at you before?!</td>\n",
       "    </tr>\n",
       "    <tr>\n",
       "      <th>15</th>\n",
       "      <td>Chandler</td>\n",
       "      <td>Finally, I figure I'd better answer it, and i...</td>\n",
       "    </tr>\n",
       "    <tr>\n",
       "      <th>16</th>\n",
       "      <td>Ross</td>\n",
       "      <td>(mortified) Hi.</td>\n",
       "    </tr>\n",
       "    <tr>\n",
       "      <th>17</th>\n",
       "      <td>Joey</td>\n",
       "      <td>This guy says hello, I wanna kill myself.</td>\n",
       "    </tr>\n",
       "    <tr>\n",
       "      <th>18</th>\n",
       "      <td>Monica</td>\n",
       "      <td>Are you okay, sweetie?</td>\n",
       "    </tr>\n",
       "    <tr>\n",
       "      <th>19</th>\n",
       "      <td>Ross</td>\n",
       "      <td>I just feel like someone reached down my thro...</td>\n",
       "    </tr>\n",
       "    <tr>\n",
       "      <th>20</th>\n",
       "      <td>Chandler</td>\n",
       "      <td>Cookie?</td>\n",
       "    </tr>\n",
       "    <tr>\n",
       "      <th>21</th>\n",
       "      <td>Monica</td>\n",
       "      <td>(explaining to the others) Carol moved her st...</td>\n",
       "    </tr>\n",
       "    <tr>\n",
       "      <th>22</th>\n",
       "      <td>Joey</td>\n",
       "      <td>Ohh.</td>\n",
       "    </tr>\n",
       "    <tr>\n",
       "      <th>23</th>\n",
       "      <td>Monica</td>\n",
       "      <td>(to Ross) Let me get you some coffee.</td>\n",
       "    </tr>\n",
       "    <tr>\n",
       "      <th>24</th>\n",
       "      <td>Ross</td>\n",
       "      <td>Thanks.</td>\n",
       "    </tr>\n",
       "    <tr>\n",
       "      <th>25</th>\n",
       "      <td>Phoebe</td>\n",
       "      <td>Ooh! Oh! (She starts to pluck at the air just...</td>\n",
       "    </tr>\n",
       "    <tr>\n",
       "      <th>26</th>\n",
       "      <td>Ross</td>\n",
       "      <td>No, no don't! Stop cleansing my aura! No, jus...</td>\n",
       "    </tr>\n",
       "    <tr>\n",
       "      <th>27</th>\n",
       "      <td>Phoebe</td>\n",
       "      <td>Fine!  Be murky!</td>\n",
       "    </tr>\n",
       "    <tr>\n",
       "      <th>28</th>\n",
       "      <td>Ross</td>\n",
       "      <td>I'll be fine, alright? Really, everyone. I ho...</td>\n",
       "    </tr>\n",
       "    <tr>\n",
       "      <th>29</th>\n",
       "      <td>Monica</td>\n",
       "      <td>No you don't.</td>\n",
       "    </tr>\n",
       "    <tr>\n",
       "      <th>30</th>\n",
       "      <td>Ross</td>\n",
       "      <td>No I don't, to hell with her, she left me!</td>\n",
       "    </tr>\n",
       "    <tr>\n",
       "      <th>31</th>\n",
       "      <td>Joey</td>\n",
       "      <td>And you never knew she was a lesbian...</td>\n",
       "    </tr>\n",
       "    <tr>\n",
       "      <th>32</th>\n",
       "      <td>Ross</td>\n",
       "      <td>No!! Okay?! Why does everyone keep fixating o...</td>\n",
       "    </tr>\n",
       "    <tr>\n",
       "      <th>33</th>\n",
       "      <td>Chandler</td>\n",
       "      <td>Sometimes I wish I was a lesbian... (They all...</td>\n",
       "    </tr>\n",
       "    <tr>\n",
       "      <th>34</th>\n",
       "      <td>Ross</td>\n",
       "      <td>I told mom and dad last night, they seemed to...</td>\n",
       "    </tr>\n",
       "    <tr>\n",
       "      <th>35</th>\n",
       "      <td>Monica</td>\n",
       "      <td>Oh really, so that hysterical phone call I go...</td>\n",
       "    </tr>\n",
       "    <tr>\n",
       "      <th>36</th>\n",
       "      <td>Ross</td>\n",
       "      <td>Sorry.</td>\n",
       "    </tr>\n",
       "    <tr>\n",
       "      <th>37</th>\n",
       "      <td>Joey</td>\n",
       "      <td>Alright Ross, look. You're feeling a lot of p...</td>\n",
       "    </tr>\n",
       "    <tr>\n",
       "      <th>38</th>\n",
       "      <td>Joey</td>\n",
       "      <td>Strip joint! C'mon, you're single! Have some ...</td>\n",
       "    </tr>\n",
       "    <tr>\n",
       "      <th>39</th>\n",
       "      <td>Ross</td>\n",
       "      <td>I don't want to be single, okay? I just... I ...</td>\n",
       "    </tr>\n",
       "    <tr>\n",
       "      <th>40</th>\n",
       "      <td>Chandler</td>\n",
       "      <td>And I just want a million dollars! (He extend...</td>\n",
       "    </tr>\n",
       "    <tr>\n",
       "      <th>41</th>\n",
       "      <td>Monica</td>\n",
       "      <td>Rachel?!</td>\n",
       "    </tr>\n",
       "    <tr>\n",
       "      <th>42</th>\n",
       "      <td>Rachel</td>\n",
       "      <td>Oh God Monica hi! Thank God! I just went to y...</td>\n",
       "    </tr>\n",
       "    <tr>\n",
       "      <th>43</th>\n",
       "      <td>Monica</td>\n",
       "      <td>(pointing at Rachel) De-caff. (to All) Okay, ...</td>\n",
       "    </tr>\n",
       "    <tr>\n",
       "      <th>44</th>\n",
       "      <td>Rachel</td>\n",
       "      <td>Hi, sure!</td>\n",
       "    </tr>\n",
       "    <tr>\n",
       "      <th>45</th>\n",
       "      <td>Ross</td>\n",
       "      <td>Hi.</td>\n",
       "    </tr>\n",
       "    <tr>\n",
       "      <th>46</th>\n",
       "      <td>Monica</td>\n",
       "      <td>So you wanna tell us now, or are we waiting f...</td>\n",
       "    </tr>\n",
       "    <tr>\n",
       "      <th>47</th>\n",
       "      <td>Rachel</td>\n",
       "      <td>Oh God... well, it started about a half hour ...</td>\n",
       "    </tr>\n",
       "    <tr>\n",
       "      <th>48</th>\n",
       "      <td>Monica</td>\n",
       "      <td>Who wasn't invited to the wedding.</td>\n",
       "    </tr>\n",
       "    <tr>\n",
       "      <th>49</th>\n",
       "      <td>Rachel</td>\n",
       "      <td>Ooh, I was kinda hoping that wouldn't be an i...</td>\n",
       "    </tr>\n",
       "  </tbody>\n",
       "</table>\n",
       "</div>"
      ],
      "text/plain": [
       "        CAST                                               LINE\n",
       "0     Monica   There's nothing to tell! He's just some guy I...\n",
       "1       Joey   C'mon, you're going out with the guy! There's...\n",
       "2   Chandler   All right Joey, be nice.  So does he have a h...\n",
       "3     Phoebe                           Wait, does he eat chalk?\n",
       "4     Phoebe   Just, 'cause, I don't want her to go through ...\n",
       "5     Monica   Okay, everybody relax. This is not even a dat...\n",
       "6   Chandler                          Sounds like a date to me.\n",
       "7   Chandler   Alright, so I'm back in high school, I'm stan...\n",
       "8   Chandler   Then I look down, and I realize there's a pho...\n",
       "9       Joey                                     Instead of...?\n",
       "10  Chandler                                      That's right.\n",
       "11      Joey                              Never had that dream.\n",
       "12    Phoebe                                                No.\n",
       "13  Chandler   All of a sudden, the phone starts to ring. No...\n",
       "14    Monica           And they weren't looking at you before?!\n",
       "15  Chandler   Finally, I figure I'd better answer it, and i...\n",
       "16      Ross                                    (mortified) Hi.\n",
       "17      Joey          This guy says hello, I wanna kill myself.\n",
       "18    Monica                             Are you okay, sweetie?\n",
       "19      Ross   I just feel like someone reached down my thro...\n",
       "20  Chandler                                            Cookie?\n",
       "21    Monica   (explaining to the others) Carol moved her st...\n",
       "22      Joey                                               Ohh.\n",
       "23    Monica              (to Ross) Let me get you some coffee.\n",
       "24      Ross                                            Thanks.\n",
       "25    Phoebe   Ooh! Oh! (She starts to pluck at the air just...\n",
       "26      Ross   No, no don't! Stop cleansing my aura! No, jus...\n",
       "27    Phoebe                                   Fine!  Be murky!\n",
       "28      Ross   I'll be fine, alright? Really, everyone. I ho...\n",
       "29    Monica                                      No you don't.\n",
       "30      Ross         No I don't, to hell with her, she left me!\n",
       "31      Joey            And you never knew she was a lesbian...\n",
       "32      Ross   No!! Okay?! Why does everyone keep fixating o...\n",
       "33  Chandler   Sometimes I wish I was a lesbian... (They all...\n",
       "34      Ross   I told mom and dad last night, they seemed to...\n",
       "35    Monica   Oh really, so that hysterical phone call I go...\n",
       "36      Ross                                             Sorry.\n",
       "37      Joey   Alright Ross, look. You're feeling a lot of p...\n",
       "38      Joey   Strip joint! C'mon, you're single! Have some ...\n",
       "39      Ross   I don't want to be single, okay? I just... I ...\n",
       "40  Chandler   And I just want a million dollars! (He extend...\n",
       "41    Monica                                           Rachel?!\n",
       "42    Rachel   Oh God Monica hi! Thank God! I just went to y...\n",
       "43    Monica   (pointing at Rachel) De-caff. (to All) Okay, ...\n",
       "44    Rachel                                          Hi, sure!\n",
       "45      Ross                                                Hi.\n",
       "46    Monica   So you wanna tell us now, or are we waiting f...\n",
       "47    Rachel   Oh God... well, it started about a half hour ...\n",
       "48    Monica                 Who wasn't invited to the wedding.\n",
       "49    Rachel   Ooh, I was kinda hoping that wouldn't be an i..."
      ]
     },
     "execution_count": 25,
     "metadata": {},
     "output_type": "execute_result"
    }
   ],
   "source": [
    "df.head(50)"
   ]
  },
  {
   "cell_type": "markdown",
   "metadata": {
    "id": "vywksfAE_B7M"
   },
   "source": [
    "df.to_csv(\"cast_names_script.csv\", header = True, index = False)"
   ]
  },
  {
   "cell_type": "markdown",
   "metadata": {},
   "source": [
    "df.to_excel(\"cast_names_script.xlsx\", header = True, index = False)"
   ]
  },
  {
   "cell_type": "code",
   "execution_count": null,
   "metadata": {},
   "outputs": [],
   "source": []
  },
  {
   "cell_type": "code",
   "execution_count": null,
   "metadata": {},
   "outputs": [],
   "source": []
  },
  {
   "cell_type": "code",
   "execution_count": 2,
   "metadata": {},
   "outputs": [],
   "source": [
    "daf = pd.read_csv('Final Data.csv')"
   ]
  },
  {
   "cell_type": "code",
   "execution_count": 3,
   "metadata": {},
   "outputs": [
    {
     "name": "stdout",
     "output_type": "stream",
     "text": [
      "<class 'pandas.core.frame.DataFrame'>\n",
      "RangeIndex: 95185 entries, 0 to 95184\n",
      "Data columns (total 2 columns):\n",
      " #   Column  Non-Null Count  Dtype \n",
      "---  ------  --------------  ----- \n",
      " 0   CAST    62684 non-null  object\n",
      " 1   LINE    61588 non-null  object\n",
      "dtypes: object(2)\n",
      "memory usage: 1.5+ MB\n"
     ]
    }
   ],
   "source": [
    "daf.info()"
   ]
  },
  {
   "cell_type": "code",
   "execution_count": 4,
   "metadata": {},
   "outputs": [
    {
     "data": {
      "text/plain": [
       "CAST    32501\n",
       "LINE    33597\n",
       "dtype: int64"
      ]
     },
     "execution_count": 4,
     "metadata": {},
     "output_type": "execute_result"
    }
   ],
   "source": [
    "daf.isnull().sum()"
   ]
  },
  {
   "cell_type": "code",
   "execution_count": 5,
   "metadata": {},
   "outputs": [],
   "source": [
    "daf = daf.dropna(axis = 0,how = 'all').reset_index(drop =True)"
   ]
  },
  {
   "cell_type": "code",
   "execution_count": 6,
   "metadata": {},
   "outputs": [],
   "source": [
    "daf.to_csv('no_null_final_data.csv', header = True, index = False)"
   ]
  },
  {
   "cell_type": "code",
   "execution_count": 7,
   "metadata": {},
   "outputs": [],
   "source": [
    "daf.to_excel('no_null_final_data.xlsx', header = True, index = False)"
   ]
  },
  {
   "cell_type": "code",
   "execution_count": 8,
   "metadata": {},
   "outputs": [
    {
     "name": "stdout",
     "output_type": "stream",
     "text": [
      "<class 'pandas.core.frame.DataFrame'>\n",
      "RangeIndex: 62684 entries, 0 to 62683\n",
      "Data columns (total 2 columns):\n",
      " #   Column  Non-Null Count  Dtype \n",
      "---  ------  --------------  ----- \n",
      " 0   CAST    62684 non-null  object\n",
      " 1   LINE    61588 non-null  object\n",
      "dtypes: object(2)\n",
      "memory usage: 979.6+ KB\n"
     ]
    }
   ],
   "source": [
    "daf.info()"
   ]
  },
  {
   "cell_type": "code",
   "execution_count": null,
   "metadata": {},
   "outputs": [],
   "source": []
  },
  {
   "cell_type": "code",
   "execution_count": null,
   "metadata": {},
   "outputs": [],
   "source": []
  }
 ],
 "metadata": {
  "colab": {
   "collapsed_sections": [],
   "name": "Friends_Script_Analysis",
   "provenance": []
  },
  "kernelspec": {
   "display_name": "Python 3",
   "language": "python",
   "name": "python3"
  },
  "language_info": {
   "codemirror_mode": {
    "name": "ipython",
    "version": 3
   },
   "file_extension": ".py",
   "mimetype": "text/x-python",
   "name": "python",
   "nbconvert_exporter": "python",
   "pygments_lexer": "ipython3",
   "version": "3.8.5"
  }
 },
 "nbformat": 4,
 "nbformat_minor": 1
}
